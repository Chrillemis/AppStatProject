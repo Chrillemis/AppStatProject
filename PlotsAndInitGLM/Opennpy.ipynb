{
 "cells": [
  {
   "cell_type": "code",
   "execution_count": 1,
   "metadata": {},
   "outputs": [],
   "source": [
    "import numpy as np"
   ]
  },
  {
   "cell_type": "code",
   "execution_count": 11,
   "metadata": {},
   "outputs": [
    {
     "name": "stdout",
     "output_type": "stream",
     "text": [
      "                                 Generalized Linear Model Regression Results                                 \n",
      "=============================================================================================================\n",
      "Dep. Variable:     ['IsMigratorBool[False]', 'IsMigratorBool[True]']   No. Observations:                 8000\n",
      "Model:                                                           GLM   Df Residuals:                     7984\n",
      "Model Family:                                               Binomial   Df Model:                           15\n",
      "Link Function:                                                 Logit   Scale:                          1.0000\n",
      "Method:                                                         IRLS   Log-Likelihood:                -2734.7\n",
      "Date:                                               Wed, 13 Nov 2024   Deviance:                       5469.4\n",
      "Time:                                                       15:31:17   Pearson chi2:                 8.11e+03\n",
      "No. Iterations:                                                    6   Pseudo R-squ. (CS):             0.2185\n",
      "Covariance Type:                                           nonrobust                                         \n",
      "==============================================================================\n",
      "                 coef    std err          z      P>|z|      [0.025      0.975]\n",
      "------------------------------------------------------------------------------\n",
      "Intercept     -2.0635      1.146     -1.800      0.072      -4.311       0.184\n",
      "z             -0.0842      0.132     -0.639      0.523      -0.342       0.174\n",
      "vz             0.0007      0.000      2.053      0.040    3.23e-05       0.001\n",
      "Rcyl          -0.3753      0.018    -21.373      0.000      -0.410      -0.341\n",
      "phi           -0.0008      0.000     -2.508      0.012      -0.001      -0.000\n",
      "vRcyl          0.0002      0.000      0.678      0.498      -0.000       0.001\n",
      "vphi          -0.0034      0.000     -9.481      0.000      -0.004      -0.003\n",
      "age            0.4666      0.057      8.203      0.000       0.355       0.578\n",
      "mass        3.814e-05    2.3e-05      1.658      0.097   -6.95e-06    8.32e-05\n",
      "feh          -42.4629     93.742     -0.453      0.651    -226.194     141.269\n",
      "oh           145.7930     76.639      1.902      0.057      -4.416     296.002\n",
      "ch            -5.3877     75.115     -0.072      0.943    -152.610     141.834\n",
      "mgh          -96.1837     76.648     -1.255      0.210    -246.410      54.043\n",
      "ofe         -133.2819     76.724     -1.737      0.082    -283.658      17.095\n",
      "cfe           15.5867     75.109      0.208      0.836    -131.623     162.797\n",
      "mgfe          74.6849     76.650      0.974      0.330     -75.547     224.916\n",
      "==============================================================================\n"
     ]
    }
   ],
   "source": [
    "print(np.load(\"SummaryGLM_AllCylPredictors.npy\", allow_pickle=True).item())\n",
    "# np.savetxt(\"SummaryGLM_AllCylPredictors.txt\", np.load(\"SummaryGLM_AllCylPredictors.npy\", allow_pickle=True))"
   ]
  },
  {
   "cell_type": "code",
   "execution_count": 7,
   "metadata": {},
   "outputs": [
    {
     "name": "stdout",
     "output_type": "stream",
     "text": [
      "                                 Generalized Linear Model Regression Results                                 \n",
      "=============================================================================================================\n",
      "Dep. Variable:     ['IsMigratorBool[False]', 'IsMigratorBool[True]']   No. Observations:                 8000\n",
      "Model:                                                           GLM   Df Residuals:                     7996\n",
      "Model Family:                                               Binomial   Df Model:                            3\n",
      "Link Function:                                                 Logit   Scale:                          1.0000\n",
      "Method:                                                         IRLS   Log-Likelihood:                -2843.1\n",
      "Date:                                               Wed, 13 Nov 2024   Deviance:                       5686.2\n",
      "Time:                                                       15:35:18   Pearson chi2:                 7.99e+03\n",
      "No. Iterations:                                                    6   Pseudo R-squ. (CS):             0.1976\n",
      "Covariance Type:                                           nonrobust                                         \n",
      "==============================================================================\n",
      "                 coef    std err          z      P>|z|      [0.025      0.975]\n",
      "------------------------------------------------------------------------------\n",
      "Intercept      4.5501      0.145     31.483      0.000       4.267       4.833\n",
      "age           -0.1415      0.014    -10.248      0.000      -0.169      -0.114\n",
      "vphi          -0.0040      0.000    -11.496      0.000      -0.005      -0.003\n",
      "Rcyl          -0.4980      0.015    -34.088      0.000      -0.527      -0.469\n",
      "==============================================================================\n"
     ]
    }
   ],
   "source": [
    "print(np.load(\"SummaryGLM_LowPvalueCylPredictors.npy\", allow_pickle=True))"
   ]
  }
 ],
 "metadata": {
  "kernelspec": {
   "display_name": "Python 3",
   "language": "python",
   "name": "python3"
  },
  "language_info": {
   "codemirror_mode": {
    "name": "ipython",
    "version": 3
   },
   "file_extension": ".py",
   "mimetype": "text/x-python",
   "name": "python",
   "nbconvert_exporter": "python",
   "pygments_lexer": "ipython3",
   "version": "3.11.1"
  }
 },
 "nbformat": 4,
 "nbformat_minor": 2
}
