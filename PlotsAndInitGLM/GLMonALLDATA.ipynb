{
 "cells": [
  {
   "cell_type": "code",
   "execution_count": 1,
   "metadata": {},
   "outputs": [],
   "source": [
    "import numpy as np\n",
    "import matplotlib.pyplot as plt\n",
    "import pandas as pd\n",
    "import statsmodels.api as sm\n",
    "import time\n",
    "import itertools\n",
    "from ISLP.models import (ModelSpec as MS,\n",
    "                         summarize, poly)\n",
    "from astropy.io import ascii"
   ]
  },
  {
   "cell_type": "code",
   "execution_count": null,
   "metadata": {},
   "outputs": [],
   "source": [
    "filename = 'm12i_res7100_mhdcv.disk.ecsv'\n",
    "table = ascii.read(filename, guess=False)\n",
    "#data = ascii.read(filename, guess=True) #guess False quickly loads the data, but does not provide units \n",
    "df = pd.read_csv('m12i_res7100_mhdcv.disk.ecsv')\n"
   ]
  },
  {
   "cell_type": "code",
   "execution_count": null,
   "metadata": {},
   "outputs": [],
   "source": [
    "X = MS().fit_transform(DataFinal[list(feature_set)])\n",
    "model = sm.GLM(\n",
    "    DataFinal[\"IsMigratorInt\"]\n",
    "    , X\n",
    "    , family = sm.families.Binomial()\n",
    "    )\n",
    "regr = model.fit()"
   ]
  }
 ],
 "metadata": {
  "kernelspec": {
   "display_name": "Python 3",
   "language": "python",
   "name": "python3"
  },
  "language_info": {
   "codemirror_mode": {
    "name": "ipython",
    "version": 3
   },
   "file_extension": ".py",
   "mimetype": "text/x-python",
   "name": "python",
   "nbconvert_exporter": "python",
   "pygments_lexer": "ipython3",
   "version": "3.11.1"
  }
 },
 "nbformat": 4,
 "nbformat_minor": 2
}
