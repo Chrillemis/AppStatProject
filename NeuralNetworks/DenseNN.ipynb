{
 "cells": [
  {
   "cell_type": "markdown",
   "metadata": {},
   "source": [
    "# Neural Networks"
   ]
  },
  {
   "cell_type": "code",
   "execution_count": 39,
   "metadata": {},
   "outputs": [
    {
     "name": "stderr",
     "output_type": "stream",
     "text": [
      "Seed set to 0\n"
     ]
    }
   ],
   "source": [
    "import pandas as pd\n",
    "import numpy as np\n",
    "import matplotlib.pyplot as plt\n",
    "\n",
    "from sklearn.linear_model import (LinearRegression , LogisticRegression , Lasso)\n",
    "from sklearn.preprocessing import StandardScaler \n",
    "from sklearn.model_selection import KFold\n",
    "from sklearn.pipeline import Pipeline\n",
    "from ISLP import load_data\n",
    "from ISLP.models import ModelSpec as MS \n",
    "from sklearn.model_selection import (train_test_split , GridSearchCV)\n",
    "\n",
    "from ISLP.models import (ModelSpec as MS, summarize , poly)\n",
    "import statsmodels.api as sm\n",
    "\n",
    "import torch.nn.functional as F #for one hot encoding  \n",
    "\n",
    "import torch\n",
    "from torch import nn\n",
    "from torch.optim import RMSprop\n",
    "from torch.utils.data import TensorDataset\n",
    "from torchmetrics import (MeanAbsoluteError , R2Score, MeanSquaredError)\n",
    "from torchinfo import summary\n",
    "from torchvision.io import read_image\n",
    "\n",
    "from pytorch_lightning import Trainer\n",
    "from pytorch_lightning.loggers import CSVLogger\n",
    "from pytorch_lightning import seed_everything\n",
    "seed_everything(0, workers=True) \n",
    "torch.use_deterministic_algorithms(True, warn_only=True)\n",
    "\n",
    "from ISLP.torch import (SimpleDataModule , SimpleModule , ErrorTracker , rec_num_workers)\n",
    "\n",
    "from ISLP.torch.imdb import (load_lookup ,load_tensor , load_sparse ,load_sequential)"
   ]
  },
  {
   "cell_type": "markdown",
   "metadata": {},
   "source": [
    "Load data and standardize"
   ]
  },
  {
   "cell_type": "code",
   "execution_count": 40,
   "metadata": {},
   "outputs": [],
   "source": [
    "Df = pd.read_csv('Faellesdata_cleaned.csv')\n",
    "X = Df.drop(columns = 'IsMigratorInt')\n",
    "scaler = StandardScaler(with_mean=True, with_std=True)\n",
    "#Scale all columns in X\n",
    "X_scaled = scaler.fit_transform(X)\n",
    "\n",
    "\n",
    "x_train, x_test, y_train, y_test = train_test_split(X_scaled, Df['IsMigratorInt'], test_size = 0.2, random_state = 42)"
   ]
  },
  {
   "cell_type": "markdown",
   "metadata": {},
   "source": [
    "Prepare the tensors"
   ]
  },
  {
   "cell_type": "code",
   "execution_count": 42,
   "metadata": {},
   "outputs": [],
   "source": [
    "x_train_t = torch.tensor(x_train.astype(np.float32))\n",
    "y_train_t = torch.tensor(y_train.to_numpy().astype(np.float32))\n",
    "train_set = TensorDataset(x_train_t , y_train_t)\n",
    "\n",
    "x_test_t = torch.tensor(x_test.astype(np.float32))\n",
    "y_test_t = torch.tensor(y_test.to_numpy().astype(np.float32))\n",
    "test_set = TensorDataset(x_test_t , y_test_t)"
   ]
  },
  {
   "cell_type": "markdown",
   "metadata": {},
   "source": [
    "Now lets set up our neural network."
   ]
  },
  {
   "cell_type": "code",
   "execution_count": null,
   "metadata": {},
   "outputs": [],
   "source": []
  }
 ],
 "metadata": {
  "kernelspec": {
   "display_name": "base",
   "language": "python",
   "name": "python3"
  },
  "language_info": {
   "codemirror_mode": {
    "name": "ipython",
    "version": 3
   },
   "file_extension": ".py",
   "mimetype": "text/x-python",
   "name": "python",
   "nbconvert_exporter": "python",
   "pygments_lexer": "ipython3",
   "version": "3.11.5"
  }
 },
 "nbformat": 4,
 "nbformat_minor": 2
}
