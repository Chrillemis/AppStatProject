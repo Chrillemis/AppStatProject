{
 "cells": [
  {
   "cell_type": "code",
   "execution_count": 513,
   "metadata": {},
   "outputs": [],
   "source": [
    "import numpy as np\n",
    "import matplotlib.pyplot as plt\n",
    "import pandas as pd\n",
    "from ISLP.models import ModelSpec as MS\n",
    "import statsmodels.api as sm\n",
    "import keras\n",
    "from keras import layers\n",
    "from keras import ops\n",
    "from sklearn.model_selection import train_test_split"
   ]
  },
  {
   "cell_type": "code",
   "execution_count": 514,
   "metadata": {},
   "outputs": [],
   "source": [
    "import os\n",
    "PathToRepo = os.path.normpath(os.getcwd() + os.sep + os.pardir)\n",
    "Df = pd.read_csv(PathToRepo + '\\\\Data\\\\Faellesdata_cleaned.csv')\n",
    "\n",
    "x = Df.drop('IsMigratorInt', axis=1) \n",
    "for i in range(0, x.shape[1]): #Standardizing the data\n",
    "    x.iloc[:,i] = (x.iloc[:, i] - x.iloc[:, i].mean())/x.iloc[:, i].std()\n",
    "\n",
    "x_train, x_test, y_train, y_test = train_test_split(x, Df['IsMigratorInt'], test_size=0.2, random_state=42)"
   ]
  },
  {
   "cell_type": "code",
   "execution_count": 515,
   "metadata": {},
   "outputs": [],
   "source": [
    "x_train = MS(x_train, intercept = False).fit_transform(x_train)"
   ]
  },
  {
   "cell_type": "code",
   "execution_count": 517,
   "metadata": {},
   "outputs": [
    {
     "name": "stderr",
     "output_type": "stream",
     "text": [
      "C:\\Users\\lorentsen\\AppData\\Local\\Packages\\PythonSoftwareFoundation.Python.3.11_qbz5n2kfra8p0\\LocalCache\\local-packages\\Python311\\site-packages\\keras\\src\\layers\\core\\dense.py:87: UserWarning: Do not pass an `input_shape`/`input_dim` argument to a layer. When using Sequential models, prefer using an `Input(shape)` object as the first layer in the model instead.\n",
      "  super().__init__(activity_regularizer=activity_regularizer, **kwargs)\n"
     ]
    }
   ],
   "source": [
    "modelnn = keras.Sequential([\n",
    "    layers.Dense(64, activation='relu', input_shape=[x_train.shape[1]]),\n",
    "    layers.Dense(64, activation='relu'),\n",
    "    layers.Dense(1, activation='sigmoid')\n",
    "])"
   ]
  },
  {
   "cell_type": "code",
   "execution_count": 518,
   "metadata": {},
   "outputs": [
    {
     "name": "stdout",
     "output_type": "stream",
     "text": [
      "Epoch 1/10\n"
     ]
    },
    {
     "name": "stdout",
     "output_type": "stream",
     "text": [
      "\u001b[1m250/250\u001b[0m \u001b[32m━━━━━━━━━━━━━━━━━━━━\u001b[0m\u001b[37m\u001b[0m \u001b[1m1s\u001b[0m 1ms/step - accuracy: 0.8024 - loss: 0.4427\n",
      "Epoch 2/10\n",
      "\u001b[1m250/250\u001b[0m \u001b[32m━━━━━━━━━━━━━━━━━━━━\u001b[0m\u001b[37m\u001b[0m \u001b[1m0s\u001b[0m 1ms/step - accuracy: 0.8422 - loss: 0.3409\n",
      "Epoch 3/10\n",
      "\u001b[1m250/250\u001b[0m \u001b[32m━━━━━━━━━━━━━━━━━━━━\u001b[0m\u001b[37m\u001b[0m \u001b[1m0s\u001b[0m 1ms/step - accuracy: 0.8535 - loss: 0.3057\n",
      "Epoch 4/10\n",
      "\u001b[1m250/250\u001b[0m \u001b[32m━━━━━━━━━━━━━━━━━━━━\u001b[0m\u001b[37m\u001b[0m \u001b[1m0s\u001b[0m 1ms/step - accuracy: 0.8594 - loss: 0.2950\n",
      "Epoch 5/10\n",
      "\u001b[1m250/250\u001b[0m \u001b[32m━━━━━━━━━━━━━━━━━━━━\u001b[0m\u001b[37m\u001b[0m \u001b[1m0s\u001b[0m 2ms/step - accuracy: 0.8603 - loss: 0.2852\n",
      "Epoch 6/10\n",
      "\u001b[1m250/250\u001b[0m \u001b[32m━━━━━━━━━━━━━━━━━━━━\u001b[0m\u001b[37m\u001b[0m \u001b[1m0s\u001b[0m 1ms/step - accuracy: 0.8622 - loss: 0.2780\n",
      "Epoch 7/10\n",
      "\u001b[1m250/250\u001b[0m \u001b[32m━━━━━━━━━━━━━━━━━━━━\u001b[0m\u001b[37m\u001b[0m \u001b[1m0s\u001b[0m 1ms/step - accuracy: 0.8656 - loss: 0.2675\n",
      "Epoch 8/10\n",
      "\u001b[1m250/250\u001b[0m \u001b[32m━━━━━━━━━━━━━━━━━━━━\u001b[0m\u001b[37m\u001b[0m \u001b[1m0s\u001b[0m 1ms/step - accuracy: 0.8785 - loss: 0.2601\n",
      "Epoch 9/10\n",
      "\u001b[1m250/250\u001b[0m \u001b[32m━━━━━━━━━━━━━━━━━━━━\u001b[0m\u001b[37m\u001b[0m \u001b[1m0s\u001b[0m 1ms/step - accuracy: 0.8714 - loss: 0.2684\n",
      "Epoch 10/10\n",
      "\u001b[1m250/250\u001b[0m \u001b[32m━━━━━━━━━━━━━━━━━━━━\u001b[0m\u001b[37m\u001b[0m \u001b[1m0s\u001b[0m 1ms/step - accuracy: 0.8790 - loss: 0.2521\n"
     ]
    },
    {
     "data": {
      "text/plain": [
       "<keras.src.callbacks.history.History at 0x23cd16c4510>"
      ]
     },
     "execution_count": 518,
     "metadata": {},
     "output_type": "execute_result"
    }
   ],
   "source": [
    "modelnn.compile(optimizer='adam', loss='binary_crossentropy', metrics=['accuracy'])\n",
    "modelnn.fit(x_train, y_train, epochs=10)"
   ]
  },
  {
   "cell_type": "code",
   "execution_count": 519,
   "metadata": {},
   "outputs": [
    {
     "name": "stdout",
     "output_type": "stream",
     "text": [
      "\u001b[1m63/63\u001b[0m \u001b[32m━━━━━━━━━━━━━━━━━━━━\u001b[0m\u001b[37m\u001b[0m \u001b[1m0s\u001b[0m 1ms/step - accuracy: 0.8752 - loss: 0.2594  \n"
     ]
    },
    {
     "data": {
      "text/plain": [
       "[0.2658539116382599, 0.8679999709129333]"
      ]
     },
     "execution_count": 519,
     "metadata": {},
     "output_type": "execute_result"
    }
   ],
   "source": [
    "modelnn.evaluate(MS(x_test, intercept = False).fit_transform(x_test), y_test)\n"
   ]
  },
  {
   "cell_type": "code",
   "execution_count": 520,
   "metadata": {},
   "outputs": [],
   "source": [
    "from sklearn.metrics import accuracy_score"
   ]
  },
  {
   "cell_type": "code",
   "execution_count": 527,
   "metadata": {},
   "outputs": [
    {
     "name": "stdout",
     "output_type": "stream",
     "text": [
      "\u001b[1m63/63\u001b[0m \u001b[32m━━━━━━━━━━━━━━━━━━━━\u001b[0m\u001b[37m\u001b[0m \u001b[1m0s\u001b[0m 927us/step\n",
      "\u001b[1m63/63\u001b[0m \u001b[32m━━━━━━━━━━━━━━━━━━━━\u001b[0m\u001b[37m\u001b[0m \u001b[1m0s\u001b[0m 872us/step\n",
      "\u001b[1m63/63\u001b[0m \u001b[32m━━━━━━━━━━━━━━━━━━━━\u001b[0m\u001b[37m\u001b[0m \u001b[1m0s\u001b[0m 859us/step\n"
     ]
    }
   ],
   "source": [
    "\n",
    "Models = []\n",
    "modelconfig = modelnn.get_config()\n",
    "for i in range(1, len(modelconfig['layers'])):\n",
    "    neurons = modelconfig['layers'][i]['config']['units']\n",
    "    activation = modelconfig['layers'][i]['config']['activation']\n",
    "    layer_type = modelconfig['layers'][i]['class_name']\n",
    "    Models.append({'Model': 'Neural Network 1', \n",
    "                   'Optimizer': modelnn.optimizer.get_config()['name'], \n",
    "                   'Loss': modelnn.loss, \n",
    "                   'Accuracy': accuracy_score(y_test, modelnn.predict(MS(x_test, intercept = False).fit_transform(x_test)) > 0.5), \n",
    "                   'Layers': i, \n",
    "                   'Neurons': neurons, \n",
    "                   'Activation': activation})\n",
    "\n",
    "ModelsDf = pd.DataFrame(Models)\n"
   ]
  },
  {
   "cell_type": "code",
   "execution_count": 528,
   "metadata": {},
   "outputs": [
    {
     "name": "stderr",
     "output_type": "stream",
     "text": [
      "C:\\Users\\lorentsen\\AppData\\Local\\Packages\\PythonSoftwareFoundation.Python.3.11_qbz5n2kfra8p0\\LocalCache\\local-packages\\Python311\\site-packages\\keras\\src\\layers\\core\\dense.py:87: UserWarning: Do not pass an `input_shape`/`input_dim` argument to a layer. When using Sequential models, prefer using an `Input(shape)` object as the first layer in the model instead.\n",
      "  super().__init__(activity_regularizer=activity_regularizer, **kwargs)\n"
     ]
    }
   ],
   "source": [
    "modelsoftmax = keras.Sequential([\n",
    "    layers.Dense(64, activation='relu', input_shape=[x_train.shape[1]]),\n",
    "    layers.Dense(64, activation='relu'),\n",
    "    layers.Dense(2, activation='softmax')\n",
    "])"
   ]
  },
  {
   "cell_type": "code",
   "execution_count": 529,
   "metadata": {},
   "outputs": [
    {
     "name": "stdout",
     "output_type": "stream",
     "text": [
      "Epoch 1/10\n",
      "\u001b[1m250/250\u001b[0m \u001b[32m━━━━━━━━━━━━━━━━━━━━\u001b[0m\u001b[37m\u001b[0m \u001b[1m1s\u001b[0m 1ms/step - accuracy: 0.8277 - loss: 0.4221\n",
      "Epoch 2/10\n",
      "\u001b[1m250/250\u001b[0m \u001b[32m━━━━━━━━━━━━━━━━━━━━\u001b[0m\u001b[37m\u001b[0m \u001b[1m0s\u001b[0m 1ms/step - accuracy: 0.8459 - loss: 0.3291\n",
      "Epoch 3/10\n",
      "\u001b[1m250/250\u001b[0m \u001b[32m━━━━━━━━━━━━━━━━━━━━\u001b[0m\u001b[37m\u001b[0m \u001b[1m0s\u001b[0m 1ms/step - accuracy: 0.8576 - loss: 0.2949\n",
      "Epoch 4/10\n",
      "\u001b[1m250/250\u001b[0m \u001b[32m━━━━━━━━━━━━━━━━━━━━\u001b[0m\u001b[37m\u001b[0m \u001b[1m0s\u001b[0m 1ms/step - accuracy: 0.8624 - loss: 0.2825\n",
      "Epoch 5/10\n",
      "\u001b[1m250/250\u001b[0m \u001b[32m━━━━━━━━━━━━━━━━━━━━\u001b[0m\u001b[37m\u001b[0m \u001b[1m0s\u001b[0m 1ms/step - accuracy: 0.8617 - loss: 0.2886\n",
      "Epoch 6/10\n",
      "\u001b[1m250/250\u001b[0m \u001b[32m━━━━━━━━━━━━━━━━━━━━\u001b[0m\u001b[37m\u001b[0m \u001b[1m0s\u001b[0m 1ms/step - accuracy: 0.8686 - loss: 0.2680\n",
      "Epoch 7/10\n",
      "\u001b[1m250/250\u001b[0m \u001b[32m━━━━━━━━━━━━━━━━━━━━\u001b[0m\u001b[37m\u001b[0m \u001b[1m0s\u001b[0m 1ms/step - accuracy: 0.8693 - loss: 0.2627\n",
      "Epoch 8/10\n",
      "\u001b[1m250/250\u001b[0m \u001b[32m━━━━━━━━━━━━━━━━━━━━\u001b[0m\u001b[37m\u001b[0m \u001b[1m0s\u001b[0m 1ms/step - accuracy: 0.8702 - loss: 0.2621\n",
      "Epoch 9/10\n",
      "\u001b[1m250/250\u001b[0m \u001b[32m━━━━━━━━━━━━━━━━━━━━\u001b[0m\u001b[37m\u001b[0m \u001b[1m0s\u001b[0m 1ms/step - accuracy: 0.8628 - loss: 0.2662\n",
      "Epoch 10/10\n",
      "\u001b[1m250/250\u001b[0m \u001b[32m━━━━━━━━━━━━━━━━━━━━\u001b[0m\u001b[37m\u001b[0m \u001b[1m0s\u001b[0m 1ms/step - accuracy: 0.8823 - loss: 0.2535\n"
     ]
    },
    {
     "data": {
      "text/plain": [
       "<keras.src.callbacks.history.History at 0x23cd1b0d990>"
      ]
     },
     "execution_count": 529,
     "metadata": {},
     "output_type": "execute_result"
    }
   ],
   "source": [
    "modelsoftmax.compile(optimizer='adam', loss='categorical_crossentropy', metrics=['accuracy'])\n",
    "modelsoftmax.fit(x_train, keras.utils.to_categorical(y_train), epochs=10)\n"
   ]
  },
  {
   "cell_type": "code",
   "execution_count": 530,
   "metadata": {},
   "outputs": [
    {
     "name": "stdout",
     "output_type": "stream",
     "text": [
      "\u001b[1m63/63\u001b[0m \u001b[32m━━━━━━━━━━━━━━━━━━━━\u001b[0m\u001b[37m\u001b[0m \u001b[1m0s\u001b[0m 1ms/step\n",
      "\u001b[1m63/63\u001b[0m \u001b[32m━━━━━━━━━━━━━━━━━━━━\u001b[0m\u001b[37m\u001b[0m \u001b[1m0s\u001b[0m 923us/step\n",
      "\u001b[1m63/63\u001b[0m \u001b[32m━━━━━━━━━━━━━━━━━━━━\u001b[0m\u001b[37m\u001b[0m \u001b[1m0s\u001b[0m 855us/step\n"
     ]
    }
   ],
   "source": [
    "Models = []\n",
    "modelnn = modelsoftmax\n",
    "\n",
    "modelconfig = modelnn.get_config()\n",
    "for i in range(1, len(modelconfig['layers'])):\n",
    "    neurons = modelconfig['layers'][i]['config']['units']\n",
    "    activation = modelconfig['layers'][i]['config']['activation']\n",
    "    layer_type = modelconfig['layers'][i]['class_name']\n",
    "    Models.append({'Model': 'Neural Network 2'\n",
    "                   , 'Optimizer': modelnn.optimizer.get_config()['name']\n",
    "                   , 'Loss': modelnn.loss\n",
    "                    , 'Accuracy': accuracy_score(y_test, np.argmax(modelsoftmax.predict(MS(x_test, intercept = False).fit_transform(x_test)), axis=1))\n",
    "                   , 'Layers': i, 'Neurons': neurons\n",
    "                   , 'Activation': activation})\n",
    "NewModelDf = pd.DataFrame(Models)\n",
    "ModelsDf = ModelsDf.merge(NewModelDf, how='outer', on=['Model', 'Layers', 'Neurons', 'Activation', 'Optimizer', 'Loss', 'Accuracy'])\n"
   ]
  },
  {
   "cell_type": "code",
   "execution_count": 533,
   "metadata": {},
   "outputs": [
    {
     "name": "stderr",
     "output_type": "stream",
     "text": [
      "C:\\Users\\lorentsen\\AppData\\Local\\Packages\\PythonSoftwareFoundation.Python.3.11_qbz5n2kfra8p0\\LocalCache\\local-packages\\Python311\\site-packages\\keras\\src\\layers\\core\\dense.py:87: UserWarning: Do not pass an `input_shape`/`input_dim` argument to a layer. When using Sequential models, prefer using an `Input(shape)` object as the first layer in the model instead.\n",
      "  super().__init__(activity_regularizer=activity_regularizer, **kwargs)\n"
     ]
    },
    {
     "name": "stdout",
     "output_type": "stream",
     "text": [
      "\u001b[1m63/63\u001b[0m \u001b[32m━━━━━━━━━━━━━━━━━━━━\u001b[0m\u001b[37m\u001b[0m \u001b[1m0s\u001b[0m 1ms/step - accuracy: 0.8633 - loss: 0.2728  \n"
     ]
    },
    {
     "data": {
      "text/plain": [
       "[0.27059683203697205, 0.8600000143051147]"
      ]
     },
     "execution_count": 533,
     "metadata": {},
     "output_type": "execute_result"
    }
   ],
   "source": [
    "modelnn = keras.Sequential([\n",
    "    layers.Dense(16, activation='relu', input_shape=[x_train.shape[1]]),\n",
    "    layers.Dense(1, activation='sigmoid')\n",
    "])\n",
    "modelnn.compile(optimizer='adam', loss='binary_crossentropy', metrics=['accuracy'])\n",
    "modelnn.fit(x_train, y_train, epochs=100, verbose = 0)\n",
    "modelnn.evaluate(MS(x_test, intercept = False).fit_transform(x_test), y_test)"
   ]
  },
  {
   "cell_type": "code",
   "execution_count": 534,
   "metadata": {},
   "outputs": [
    {
     "name": "stdout",
     "output_type": "stream",
     "text": [
      "\u001b[1m63/63\u001b[0m \u001b[32m━━━━━━━━━━━━━━━━━━━━\u001b[0m\u001b[37m\u001b[0m \u001b[1m0s\u001b[0m 1ms/step  \n",
      "\u001b[1m63/63\u001b[0m \u001b[32m━━━━━━━━━━━━━━━━━━━━\u001b[0m\u001b[37m\u001b[0m \u001b[1m0s\u001b[0m 900us/step\n"
     ]
    }
   ],
   "source": [
    "Models = []\n",
    "modelconfig = modelnn.get_config()\n",
    "for i in range(1, len(modelconfig['layers'])):\n",
    "    neurons = modelconfig['layers'][i]['config']['units']\n",
    "    activation = modelconfig['layers'][i]['config']['activation']\n",
    "    layer_type = modelconfig['layers'][i]['class_name']\n",
    "    Models.append({'Model': 'Neural Network 3', \n",
    "                   'Optimizer': modelnn.optimizer.get_config()['name'], \n",
    "                   'Loss': modelnn.loss, \n",
    "                   'Accuracy': accuracy_score(y_test, modelnn.predict(MS(x_test, intercept = False).fit_transform(x_test)) > 0.5), \n",
    "                   'Layers': i, \n",
    "                   'Neurons': neurons, \n",
    "                   'Activation': activation})\n",
    "NewModelDf = pd.DataFrame(Models)\n",
    "ModelsDf = ModelsDf.merge(NewModelDf, how='outer', on=['Model', 'Layers', 'Neurons', 'Activation', 'Optimizer', 'Loss', 'Accuracy'])\n"
   ]
  },
  {
   "cell_type": "code",
   "execution_count": 535,
   "metadata": {},
   "outputs": [
    {
     "name": "stderr",
     "output_type": "stream",
     "text": [
      "C:\\Users\\lorentsen\\AppData\\Local\\Packages\\PythonSoftwareFoundation.Python.3.11_qbz5n2kfra8p0\\LocalCache\\local-packages\\Python311\\site-packages\\keras\\src\\layers\\core\\dense.py:87: UserWarning: Do not pass an `input_shape`/`input_dim` argument to a layer. When using Sequential models, prefer using an `Input(shape)` object as the first layer in the model instead.\n",
      "  super().__init__(activity_regularizer=activity_regularizer, **kwargs)\n"
     ]
    }
   ],
   "source": [
    "modelnn = keras.Sequential([\n",
    "    layers.Dense(16, activation='relu', input_shape=[x_train.shape[1]]),\n",
    "    layers.Dropout(0.5),\n",
    "    layers.Dense(16, activation='relu'),\n",
    "    layers.Dropout(0.5),\n",
    "    layers.Dense(1, activation='sigmoid')\n",
    "])"
   ]
  },
  {
   "cell_type": "code",
   "execution_count": 536,
   "metadata": {},
   "outputs": [
    {
     "name": "stdout",
     "output_type": "stream",
     "text": [
      "\u001b[1m63/63\u001b[0m \u001b[32m━━━━━━━━━━━━━━━━━━━━\u001b[0m\u001b[37m\u001b[0m \u001b[1m0s\u001b[0m 1ms/step - accuracy: 0.8577 - loss: 0.2923\n"
     ]
    },
    {
     "data": {
      "text/plain": [
       "[0.2906586229801178, 0.8529999852180481]"
      ]
     },
     "execution_count": 536,
     "metadata": {},
     "output_type": "execute_result"
    }
   ],
   "source": [
    "modelnn.compile(optimizer='adam', loss='binary_crossentropy', metrics=['accuracy'])\n",
    "modelnn.fit(x_train, y_train, epochs=100, verbose = 0)\n",
    "modelnn.evaluate(MS(x_test, intercept = False).fit_transform(x_test), y_test)"
   ]
  },
  {
   "cell_type": "code",
   "execution_count": 537,
   "metadata": {},
   "outputs": [
    {
     "name": "stdout",
     "output_type": "stream",
     "text": [
      "\u001b[1m63/63\u001b[0m \u001b[32m━━━━━━━━━━━━━━━━━━━━\u001b[0m\u001b[37m\u001b[0m \u001b[1m0s\u001b[0m 1ms/step\n",
      "\u001b[1m63/63\u001b[0m \u001b[32m━━━━━━━━━━━━━━━━━━━━\u001b[0m\u001b[37m\u001b[0m \u001b[1m0s\u001b[0m 913us/step\n",
      "\u001b[1m63/63\u001b[0m \u001b[32m━━━━━━━━━━━━━━━━━━━━\u001b[0m\u001b[37m\u001b[0m \u001b[1m0s\u001b[0m 872us/step\n",
      "\u001b[1m63/63\u001b[0m \u001b[32m━━━━━━━━━━━━━━━━━━━━\u001b[0m\u001b[37m\u001b[0m \u001b[1m0s\u001b[0m 879us/step\n",
      "\u001b[1m63/63\u001b[0m \u001b[32m━━━━━━━━━━━━━━━━━━━━\u001b[0m\u001b[37m\u001b[0m \u001b[1m0s\u001b[0m 1ms/step \n"
     ]
    }
   ],
   "source": [
    "Models = []\n",
    "modelconfig = modelnn.get_config()\n",
    "modelconfig['layers'][2]\n",
    "for i in range(1, len(modelconfig['layers'])):\n",
    "    layer_type = modelconfig['layers'][i]['class_name']\n",
    "    if layer_type == 'Dropout':\n",
    "        rate = modelconfig['layers'][i]['config']['rate']\n",
    "        Models.append({'Model': 'Neural Network 4', \n",
    "                       'Optimizer': modelnn.optimizer.get_config()['name'], \n",
    "                       'Loss': modelnn.loss, \n",
    "                       'Accuracy': accuracy_score(y_test, modelnn.predict(MS(x_test, intercept = False).fit_transform(x_test)) > 0.5), \n",
    "                       'Layers': i, \n",
    "                       'Rate': rate})\n",
    "        continue\n",
    "    neurons = modelconfig['layers'][i]['config']['units']\n",
    "    activation = modelconfig['layers'][i]['config']['activation']\n",
    "    Models.append({'Model': 'Neural Network 4', \n",
    "                   'Optimizer': modelnn.optimizer.get_config()['name'], \n",
    "                   'Loss': modelnn.loss, \n",
    "                   'Accuracy': accuracy_score(y_test, modelnn.predict(MS(x_test, intercept = False).fit_transform(x_test)) > 0.5), \n",
    "                   'Layers': i, \n",
    "                   'Neurons': neurons, \n",
    "                   'Activation': activation})\n",
    "NewModelDf = pd.DataFrame(Models)\n",
    "ModelsDf = ModelsDf.merge(NewModelDf, how='outer', on=['Model', 'Layers', 'Neurons', 'Activation', 'Optimizer', 'Loss', 'Accuracy'])\n"
   ]
  },
  {
   "cell_type": "markdown",
   "metadata": {},
   "source": [
    "Note That the full data file is not included in the repository, as it is too large and that the code below takes over 30 mins to run. The code above just loads the model and calculates the accuracy score"
   ]
  },
  {
   "cell_type": "code",
   "execution_count": 538,
   "metadata": {},
   "outputs": [],
   "source": [
    "# from astropy.io import ascii\n",
    "# FullData = ascii.read(PathToRepo + '\\\\Data\\\\m12i_res7100_mhdcv.disk.ecsv', guess = False)\n",
    "# FullData = FullData.to_pandas()"
   ]
  },
  {
   "cell_type": "code",
   "execution_count": 539,
   "metadata": {},
   "outputs": [],
   "source": [
    "# FullData['IsMigrator'] = abs(FullData['Rcyl'] - FullData['Rcyl_form']) > 1.5\n",
    "# FullData['IsMigratorInt'] = FullData['IsMigrator'].astype(int)\n",
    "# FullData = FullData.drop(['rsph', 'x', 'y',  'vx', 'vy', \n",
    "#        'rsph_form', 'x_form', 'y_form', 'z_form', 'vx_form', 'vy_form',\n",
    "#        'vz_form', 'Rcyl_form', 'phi_form', 'vRcyl_form', 'vphi_form', \"IsMigrator\"], axis = 1)"
   ]
  },
  {
   "cell_type": "code",
   "execution_count": 540,
   "metadata": {},
   "outputs": [],
   "source": [
    "# Df = FullData\n",
    "# x = Df.drop('IsMigratorInt', axis=1) \n",
    "# for i in range(0, x.shape[1]): #Standardizing the data\n",
    "#     x.iloc[:,i] = (x.iloc[:, i] - x.iloc[:, i].mean())/x.iloc[:, i].std()\n",
    "\n",
    "# x_train, x_test, y_train, y_test = train_test_split(x, Df['IsMigratorInt'], test_size=0.2, random_state=42)"
   ]
  },
  {
   "cell_type": "code",
   "execution_count": 541,
   "metadata": {},
   "outputs": [],
   "source": [
    "# modelnn = keras.Sequential([\n",
    "#     layers.Dense(16, activation='relu', input_shape=[x_train.shape[1]]),\n",
    "#     layers.Dense(1, activation='sigmoid')\n",
    "# ])\n",
    "# modelnn.compile(optimizer='adam', loss='binary_crossentropy', metrics=['accuracy'])\n",
    "# modelnn.fit(x_train, y_train, epochs=10)"
   ]
  },
  {
   "cell_type": "code",
   "execution_count": 543,
   "metadata": {},
   "outputs": [
    {
     "name": "stdout",
     "output_type": "stream",
     "text": [
      "\u001b[1m63/63\u001b[0m \u001b[32m━━━━━━━━━━━━━━━━━━━━\u001b[0m\u001b[37m\u001b[0m \u001b[1m0s\u001b[0m 1ms/step  \n"
     ]
    },
    {
     "name": "stderr",
     "output_type": "stream",
     "text": [
      "C:\\Users\\lorentsen\\AppData\\Local\\Packages\\PythonSoftwareFoundation.Python.3.11_qbz5n2kfra8p0\\LocalCache\\local-packages\\Python311\\site-packages\\keras\\src\\saving\\saving_lib.py:757: UserWarning: Skipping variable loading for optimizer 'rmsprop', because it has 6 variables whereas the saved optimizer has 10 variables. \n",
      "  saveable.load_own_variables(weights_store.get(inner_path))\n"
     ]
    },
    {
     "name": "stdout",
     "output_type": "stream",
     "text": [
      "\u001b[1m63/63\u001b[0m \u001b[32m━━━━━━━━━━━━━━━━━━━━\u001b[0m\u001b[37m\u001b[0m \u001b[1m0s\u001b[0m 807us/step\n"
     ]
    }
   ],
   "source": [
    "Models = []\n",
    "modelnn = keras.models.load_model('modelnn.keras')\n",
    "\n",
    "modelconfig = modelnn.get_config()\n",
    "for i in range(1, len(modelconfig['layers'])):\n",
    "    neurons = modelconfig['layers'][i]['config']['units']\n",
    "    activation = modelconfig['layers'][i]['config']['activation']\n",
    "    layer_type = modelconfig['layers'][i]['class_name']\n",
    "    Models.append({'Model': 'Neural Network 5', \n",
    "                   'Optimizer': modelnn.optimizer.get_config()['name'], \n",
    "                   'Loss': modelnn.loss, \n",
    "                   'Accuracy': accuracy_score(y_test, modelnn.predict(MS(x_test, intercept = False).fit_transform(x_test)) > 0.5), \n",
    "                   'Layers': i, \n",
    "                   'Neurons': neurons, \n",
    "                   'Activation': activation})\n",
    "NewModelDf = pd.DataFrame(Models)\n",
    "ModelsDf = ModelsDf.merge(NewModelDf, how='outer', on=['Model', 'Layers', 'Neurons', 'Activation', 'Optimizer', 'Loss', 'Accuracy'])\n"
   ]
  },
  {
   "cell_type": "code",
   "execution_count": 544,
   "metadata": {},
   "outputs": [],
   "source": [
    "asd = ModelsDf"
   ]
  },
  {
   "cell_type": "code",
   "execution_count": 545,
   "metadata": {},
   "outputs": [],
   "source": [
    "ModelsDf = asd\n",
    "\n",
    "ModelsDf\n",
    "ModelsDf.index = ModelsDf['Model']\n",
    "ModelsDf = ModelsDf.drop('Model', axis = 1)"
   ]
  },
  {
   "cell_type": "code",
   "execution_count": 546,
   "metadata": {},
   "outputs": [],
   "source": [
    "ModelsDf.index = ModelsDf.index.rename('Model')"
   ]
  },
  {
   "cell_type": "markdown",
   "metadata": {},
   "source": []
  },
  {
   "cell_type": "code",
   "execution_count": 547,
   "metadata": {},
   "outputs": [],
   "source": [
    "ModelsDf.index = pd.MultiIndex.from_tuples([(ModelsDf.index[i],i) for i in range(0, ModelsDf.shape[0])])"
   ]
  },
  {
   "cell_type": "code",
   "execution_count": 548,
   "metadata": {},
   "outputs": [
    {
     "name": "stderr",
     "output_type": "stream",
     "text": [
      "C:\\Users\\lorentsen\\AppData\\Local\\Temp\\ipykernel_51116\\2191194268.py:1: FutureWarning: A value is trying to be set on a copy of a DataFrame or Series through chained assignment using an inplace method.\n",
      "The behavior will change in pandas 3.0. This inplace method will never work because the intermediate object on which we are setting values always behaves as a copy.\n",
      "\n",
      "For example, when doing 'df[col].method(value, inplace=True)', try using 'df.method({col: value}, inplace=True)' or df[col] = df[col].method(value) instead, to perform the operation inplace on the original object.\n",
      "\n",
      "\n",
      "  ModelsDf['Loss'].replace(\"_\", \"\\\\textunderscore \", regex=True, inplace=True)\n"
     ]
    }
   ],
   "source": [
    "ModelsDf['Loss'].replace(\"_\", \"\\\\textunderscore \", regex=True, inplace=True)"
   ]
  },
  {
   "cell_type": "code",
   "execution_count": 549,
   "metadata": {},
   "outputs": [
    {
     "data": {
      "text/html": [
       "<div>\n",
       "<style scoped>\n",
       "    .dataframe tbody tr th:only-of-type {\n",
       "        vertical-align: middle;\n",
       "    }\n",
       "\n",
       "    .dataframe tbody tr th {\n",
       "        vertical-align: top;\n",
       "    }\n",
       "\n",
       "    .dataframe thead th {\n",
       "        text-align: right;\n",
       "    }\n",
       "</style>\n",
       "<table border=\"1\" class=\"dataframe\">\n",
       "  <thead>\n",
       "    <tr style=\"text-align: right;\">\n",
       "      <th></th>\n",
       "      <th></th>\n",
       "      <th>Optimizer</th>\n",
       "      <th>Loss</th>\n",
       "      <th>Accuracy</th>\n",
       "      <th>Layers</th>\n",
       "      <th>Neurons</th>\n",
       "      <th>Activation</th>\n",
       "      <th>Rate</th>\n",
       "    </tr>\n",
       "  </thead>\n",
       "  <tbody>\n",
       "    <tr>\n",
       "      <th rowspan=\"3\" valign=\"top\">Neural Network 1</th>\n",
       "      <th>0</th>\n",
       "      <td>adam</td>\n",
       "      <td>binary\\textunderscore crossentropy</td>\n",
       "      <td>0.868</td>\n",
       "      <td>1</td>\n",
       "      <td>64.0</td>\n",
       "      <td>relu</td>\n",
       "      <td>NaN</td>\n",
       "    </tr>\n",
       "    <tr>\n",
       "      <th>1</th>\n",
       "      <td>adam</td>\n",
       "      <td>binary\\textunderscore crossentropy</td>\n",
       "      <td>0.868</td>\n",
       "      <td>2</td>\n",
       "      <td>64.0</td>\n",
       "      <td>relu</td>\n",
       "      <td>NaN</td>\n",
       "    </tr>\n",
       "    <tr>\n",
       "      <th>2</th>\n",
       "      <td>adam</td>\n",
       "      <td>binary\\textunderscore crossentropy</td>\n",
       "      <td>0.868</td>\n",
       "      <td>3</td>\n",
       "      <td>1.0</td>\n",
       "      <td>sigmoid</td>\n",
       "      <td>NaN</td>\n",
       "    </tr>\n",
       "    <tr>\n",
       "      <th rowspan=\"3\" valign=\"top\">Neural Network 2</th>\n",
       "      <th>3</th>\n",
       "      <td>adam</td>\n",
       "      <td>categorical\\textunderscore crossentropy</td>\n",
       "      <td>0.867</td>\n",
       "      <td>1</td>\n",
       "      <td>64.0</td>\n",
       "      <td>relu</td>\n",
       "      <td>NaN</td>\n",
       "    </tr>\n",
       "    <tr>\n",
       "      <th>4</th>\n",
       "      <td>adam</td>\n",
       "      <td>categorical\\textunderscore crossentropy</td>\n",
       "      <td>0.867</td>\n",
       "      <td>2</td>\n",
       "      <td>64.0</td>\n",
       "      <td>relu</td>\n",
       "      <td>NaN</td>\n",
       "    </tr>\n",
       "    <tr>\n",
       "      <th>5</th>\n",
       "      <td>adam</td>\n",
       "      <td>categorical\\textunderscore crossentropy</td>\n",
       "      <td>0.867</td>\n",
       "      <td>3</td>\n",
       "      <td>2.0</td>\n",
       "      <td>softmax</td>\n",
       "      <td>NaN</td>\n",
       "    </tr>\n",
       "    <tr>\n",
       "      <th rowspan=\"2\" valign=\"top\">Neural Network 3</th>\n",
       "      <th>6</th>\n",
       "      <td>adam</td>\n",
       "      <td>binary\\textunderscore crossentropy</td>\n",
       "      <td>0.860</td>\n",
       "      <td>1</td>\n",
       "      <td>16.0</td>\n",
       "      <td>relu</td>\n",
       "      <td>NaN</td>\n",
       "    </tr>\n",
       "    <tr>\n",
       "      <th>7</th>\n",
       "      <td>adam</td>\n",
       "      <td>binary\\textunderscore crossentropy</td>\n",
       "      <td>0.860</td>\n",
       "      <td>2</td>\n",
       "      <td>1.0</td>\n",
       "      <td>sigmoid</td>\n",
       "      <td>NaN</td>\n",
       "    </tr>\n",
       "    <tr>\n",
       "      <th rowspan=\"5\" valign=\"top\">Neural Network 4</th>\n",
       "      <th>8</th>\n",
       "      <td>adam</td>\n",
       "      <td>binary\\textunderscore crossentropy</td>\n",
       "      <td>0.853</td>\n",
       "      <td>1</td>\n",
       "      <td>16.0</td>\n",
       "      <td>relu</td>\n",
       "      <td>NaN</td>\n",
       "    </tr>\n",
       "    <tr>\n",
       "      <th>9</th>\n",
       "      <td>adam</td>\n",
       "      <td>binary\\textunderscore crossentropy</td>\n",
       "      <td>0.853</td>\n",
       "      <td>2</td>\n",
       "      <td>NaN</td>\n",
       "      <td>NaN</td>\n",
       "      <td>0.5</td>\n",
       "    </tr>\n",
       "    <tr>\n",
       "      <th>10</th>\n",
       "      <td>adam</td>\n",
       "      <td>binary\\textunderscore crossentropy</td>\n",
       "      <td>0.853</td>\n",
       "      <td>3</td>\n",
       "      <td>16.0</td>\n",
       "      <td>relu</td>\n",
       "      <td>NaN</td>\n",
       "    </tr>\n",
       "    <tr>\n",
       "      <th>11</th>\n",
       "      <td>adam</td>\n",
       "      <td>binary\\textunderscore crossentropy</td>\n",
       "      <td>0.853</td>\n",
       "      <td>4</td>\n",
       "      <td>NaN</td>\n",
       "      <td>NaN</td>\n",
       "      <td>0.5</td>\n",
       "    </tr>\n",
       "    <tr>\n",
       "      <th>12</th>\n",
       "      <td>adam</td>\n",
       "      <td>binary\\textunderscore crossentropy</td>\n",
       "      <td>0.853</td>\n",
       "      <td>5</td>\n",
       "      <td>1.0</td>\n",
       "      <td>sigmoid</td>\n",
       "      <td>NaN</td>\n",
       "    </tr>\n",
       "    <tr>\n",
       "      <th rowspan=\"2\" valign=\"top\">Neural Network 5</th>\n",
       "      <th>13</th>\n",
       "      <td>rmsprop</td>\n",
       "      <td>binary\\textunderscore crossentropy</td>\n",
       "      <td>0.880</td>\n",
       "      <td>1</td>\n",
       "      <td>16.0</td>\n",
       "      <td>relu</td>\n",
       "      <td>NaN</td>\n",
       "    </tr>\n",
       "    <tr>\n",
       "      <th>14</th>\n",
       "      <td>rmsprop</td>\n",
       "      <td>binary\\textunderscore crossentropy</td>\n",
       "      <td>0.880</td>\n",
       "      <td>2</td>\n",
       "      <td>1.0</td>\n",
       "      <td>sigmoid</td>\n",
       "      <td>NaN</td>\n",
       "    </tr>\n",
       "  </tbody>\n",
       "</table>\n",
       "</div>"
      ],
      "text/plain": [
       "                    Optimizer                                     Loss  \\\n",
       "Neural Network 1 0       adam       binary\\textunderscore crossentropy   \n",
       "                 1       adam       binary\\textunderscore crossentropy   \n",
       "                 2       adam       binary\\textunderscore crossentropy   \n",
       "Neural Network 2 3       adam  categorical\\textunderscore crossentropy   \n",
       "                 4       adam  categorical\\textunderscore crossentropy   \n",
       "                 5       adam  categorical\\textunderscore crossentropy   \n",
       "Neural Network 3 6       adam       binary\\textunderscore crossentropy   \n",
       "                 7       adam       binary\\textunderscore crossentropy   \n",
       "Neural Network 4 8       adam       binary\\textunderscore crossentropy   \n",
       "                 9       adam       binary\\textunderscore crossentropy   \n",
       "                 10      adam       binary\\textunderscore crossentropy   \n",
       "                 11      adam       binary\\textunderscore crossentropy   \n",
       "                 12      adam       binary\\textunderscore crossentropy   \n",
       "Neural Network 5 13   rmsprop       binary\\textunderscore crossentropy   \n",
       "                 14   rmsprop       binary\\textunderscore crossentropy   \n",
       "\n",
       "                     Accuracy  Layers  Neurons Activation  Rate  \n",
       "Neural Network 1 0      0.868       1     64.0       relu   NaN  \n",
       "                 1      0.868       2     64.0       relu   NaN  \n",
       "                 2      0.868       3      1.0    sigmoid   NaN  \n",
       "Neural Network 2 3      0.867       1     64.0       relu   NaN  \n",
       "                 4      0.867       2     64.0       relu   NaN  \n",
       "                 5      0.867       3      2.0    softmax   NaN  \n",
       "Neural Network 3 6      0.860       1     16.0       relu   NaN  \n",
       "                 7      0.860       2      1.0    sigmoid   NaN  \n",
       "Neural Network 4 8      0.853       1     16.0       relu   NaN  \n",
       "                 9      0.853       2      NaN        NaN   0.5  \n",
       "                 10     0.853       3     16.0       relu   NaN  \n",
       "                 11     0.853       4      NaN        NaN   0.5  \n",
       "                 12     0.853       5      1.0    sigmoid   NaN  \n",
       "Neural Network 5 13     0.880       1     16.0       relu   NaN  \n",
       "                 14     0.880       2      1.0    sigmoid   NaN  "
      ]
     },
     "execution_count": 549,
     "metadata": {},
     "output_type": "execute_result"
    }
   ],
   "source": [
    "ModelsDf.to_latex(PathToRepo + '\\\\Tables\\\\Models.tex', index_names = True, na_rep='-', multirow = True, float_format=\"%.3f\", caption=\"Differnet neural networks\", label=\"tab:RawData\", position=\"h!\")\n",
    "ModelsDf"
   ]
  },
  {
   "cell_type": "code",
   "execution_count": null,
   "metadata": {},
   "outputs": [],
   "source": [
    "# modelnn.save('modelnn.keras')"
   ]
  },
  {
   "cell_type": "code",
   "execution_count": null,
   "metadata": {},
   "outputs": [],
   "source": []
  }
 ],
 "metadata": {
  "kernelspec": {
   "display_name": "Python 3",
   "language": "python",
   "name": "python3"
  },
  "language_info": {
   "codemirror_mode": {
    "name": "ipython",
    "version": 3
   },
   "file_extension": ".py",
   "mimetype": "text/x-python",
   "name": "python",
   "nbconvert_exporter": "python",
   "pygments_lexer": "ipython3",
   "version": "3.11.9"
  }
 },
 "nbformat": 4,
 "nbformat_minor": 2
}
