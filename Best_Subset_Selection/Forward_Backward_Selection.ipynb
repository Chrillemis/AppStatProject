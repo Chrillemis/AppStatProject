{
 "cells": [
  {
   "cell_type": "code",
   "execution_count": 113,
   "metadata": {},
   "outputs": [],
   "source": [
    "import numpy as np\n",
    "import matplotlib.pyplot as plt\n",
    "import pandas as pd"
   ]
  },
  {
   "cell_type": "code",
   "execution_count": 114,
   "metadata": {},
   "outputs": [],
   "source": [
    "import statsmodels.api as sm\n",
    "import sklearn.model_selection as skm\n",
    "import sklearn.linear_model as skl\n",
    "from sklearn.preprocessing import StandardScaler\n",
    "from ISLP import load_data\n",
    "from ISLP.models import ModelSpec as MS\n",
    "from functools import partial\n",
    "from sklearn.pipeline import Pipeline\n",
    "from sklearn.decomposition import PCA\n",
    "from sklearn.cross_decomposition import PLSRegression\n",
    "from ISLP.models import \\\n",
    "    (Stepwise,\n",
    "     sklearn_selected,\n",
    "     sklearn_selection_path)\n",
    "from l0bnb import fit_path\n",
    "from sklearn.model_selection import train_test_split"
   ]
  },
  {
   "cell_type": "code",
   "execution_count": null,
   "metadata": {},
   "outputs": [],
   "source": [
    "### From the ISLP book ###\n",
    "def CE(estimator, X, Y): #Cp is negative, since sklearn tries to maximize the score, but we want to minimize Cp\n",
    "    \"Cross Entropy\"\n",
    "    Yhat = estimator.predict(X)\n",
    "    # print(Yhat[Yhat<0])\n",
    "    maskIsMigrator = Y == 1\n",
    "    maskIsNotMigrator = Y == 0\n",
    "    CrossEntropy = np.mean(\n",
    "        Y[maskIsMigrator]*np.log(Yhat[maskIsMigrator])\n",
    "        ) + np.mean(\n",
    "            (1-Y[maskIsNotMigrator])*np.log(Yhat[maskIsNotMigrator])\n",
    "            )\n",
    "    print(CrossEntropy)\n",
    "    return CrossEntropy\n",
    "\n",
    "    # maskIsMigrator = y_test == 1\n",
    "    # maskIsNotMigrator = y_test == 0\n",
    "    # predictions = regr.predict(sm.add_constant(DataFinalTest[list(feature_set)]))\n",
    "    \n",
    "    # CrossEntropy = -np.mean(\n",
    "    #     y_test[maskIsMigrator]*np.log(predictions[maskIsMigrator])\n",
    "    #     ) - np.mean(\n",
    "    #         (1-y_test[maskIsNotMigrator])*np.log(1-predictions[maskIsNotMigrator])\n",
    "    #         )\n",
    "    "
   ]
  },
  {
   "cell_type": "code",
   "execution_count": 116,
   "metadata": {},
   "outputs": [],
   "source": [
    "Df = pd.read_csv('Faellesdata_cleaned.csv')"
   ]
  },
  {
   "cell_type": "code",
   "execution_count": 117,
   "metadata": {},
   "outputs": [],
   "source": [
    "x_train, x_test, y_train, y_test = train_test_split(Df.drop('IsMigratorInt', axis=1), Df['IsMigratorInt'], test_size=0.2, random_state=42)"
   ]
  },
  {
   "cell_type": "code",
   "execution_count": 118,
   "metadata": {},
   "outputs": [],
   "source": [
    "### From the ISLP book ###\n",
    "design = MS(x_train).fit(x_train, y_train)\n",
    "Y = np.array(y_train)\n",
    "X = design.transform(x_train, y_train)\n",
    "# sigma2 = sm.GLM(Y, X, family = sm.families.Binomial()).fit().scale\n",
    "Cross_Entropy = partial(CE)\n",
    "\n",
    "strategy = Stepwise.first_peak(design,\n",
    "                               direction = 'forward',\n",
    "                               max_terms = len(design.terms))"
   ]
  },
  {
   "cell_type": "code",
   "execution_count": 119,
   "metadata": {},
   "outputs": [
    {
     "data": {
      "text/plain": [
       "('Rcyl',\n",
       " 'age',\n",
       " 'cfe',\n",
       " 'ch',\n",
       " 'feh',\n",
       " 'mass',\n",
       " 'mgfe',\n",
       " 'mgh',\n",
       " 'ofe',\n",
       " 'oh',\n",
       " 'phi',\n",
       " 'vRcyl',\n",
       " 'vphi',\n",
       " 'vz',\n",
       " 'z')"
      ]
     },
     "execution_count": 119,
     "metadata": {},
     "output_type": "execute_result"
    }
   ],
   "source": [
    "#Forward selection using MSE\n",
    "fit = partial(sm.GLM, family = sm.families.Binomial())\n",
    "Y_MSE = sklearn_selected(fit, strategy)\n",
    "Y_MSE.fit(X, Y)\n",
    "Y_MSE.selected_state_"
   ]
  },
  {
   "cell_type": "code",
   "execution_count": null,
   "metadata": {},
   "outputs": [],
   "source": []
  },
  {
   "cell_type": "code",
   "execution_count": 120,
   "metadata": {},
   "outputs": [],
   "source": [
    "# np.log(-1)"
   ]
  },
  {
   "cell_type": "code",
   "execution_count": 141,
   "metadata": {},
   "outputs": [
    {
     "name": "stdout",
     "output_type": "stream",
     "text": [
      "-3.4545044049711917\n",
      "-3.45480406081934\n",
      "-3.455055913534667\n",
      "-3.5909143329488558\n",
      "-3.4556613616210123\n",
      "-3.4546436016186552\n",
      "-3.512909264797308\n",
      "-3.472051800799199\n",
      "-3.4570109053209457\n",
      "-3.4545428365984474\n",
      "-3.454532281026843\n",
      "-3.4546008139553117\n",
      "-3.4545044060569188\n",
      "-3.4871985943393797\n",
      "-3.4553610215498614\n",
      "-3.4566424560744586\n",
      "-3.4545044049711917\n",
      "-3.45480406081934\n",
      "-3.455055913534667\n",
      "-3.5909143329488558\n",
      "-3.4556613616210123\n",
      "-3.4546436016186552\n",
      "-3.512909264797308\n",
      "-3.472051800799199\n",
      "-3.4570109053209457\n",
      "-3.4545428365984474\n",
      "-3.454532281026843\n",
      "-3.4546008139553117\n",
      "-3.4545044060569188\n",
      "-3.4871985943393797\n",
      "-3.4553610215498614\n",
      "-3.4566424560744586\n"
     ]
    },
    {
     "data": {
      "text/plain": [
       "()"
      ]
     },
     "execution_count": 141,
     "metadata": {},
     "output_type": "execute_result"
    }
   ],
   "source": [
    "#Forward selection using Cross Entropy'\n",
    "fit = partial(sm.GLM, family = sm.families.Binomial())\n",
    "Y_CE = sklearn_selected(fit,\n",
    "                        strategy,\n",
    "                        scoring = CE)\n",
    "Y_CE.fit(X, Y)\n",
    "Y_CE.selected_state_"
   ]
  },
  {
   "cell_type": "code",
   "execution_count": null,
   "metadata": {},
   "outputs": [],
   "source": []
  },
  {
   "cell_type": "code",
   "execution_count": 122,
   "metadata": {},
   "outputs": [
    {
     "data": {
      "text/plain": [
       "()"
      ]
     },
     "execution_count": 122,
     "metadata": {},
     "output_type": "execute_result"
    }
   ],
   "source": [
    "Y_CE.selected_state_"
   ]
  },
  {
   "cell_type": "code",
   "execution_count": 123,
   "metadata": {},
   "outputs": [],
   "source": [
    "#We repeat the same, but in the backwards direction\n",
    "strategy = Stepwise.first_peak(design,\n",
    "                                 direction = 'backwards',\n",
    "                                 max_terms = len(design.terms))"
   ]
  },
  {
   "cell_type": "code",
   "execution_count": 124,
   "metadata": {},
   "outputs": [
    {
     "data": {
      "text/plain": [
       "('Rcyl',\n",
       " 'age',\n",
       " 'cfe',\n",
       " 'ch',\n",
       " 'feh',\n",
       " 'mass',\n",
       " 'mgfe',\n",
       " 'mgh',\n",
       " 'ofe',\n",
       " 'oh',\n",
       " 'phi',\n",
       " 'vRcyl',\n",
       " 'vphi',\n",
       " 'vz',\n",
       " 'z')"
      ]
     },
     "execution_count": 124,
     "metadata": {},
     "output_type": "execute_result"
    }
   ],
   "source": [
    "Y_MSE = sklearn_selected(sm.GLM, strategy)\n",
    "Y_MSE.fit(X, Y)\n",
    "Y_MSE.selected_state_"
   ]
  },
  {
   "cell_type": "code",
   "execution_count": 125,
   "metadata": {},
   "outputs": [
    {
     "name": "stderr",
     "output_type": "stream",
     "text": [
      "C:\\Users\\lorentsen\\AppData\\Local\\Packages\\PythonSoftwareFoundation.Python.3.11_qbz5n2kfra8p0\\LocalCache\\local-packages\\Python311\\site-packages\\pandas\\core\\arraylike.py:399: RuntimeWarning: invalid value encountered in log\n",
      "  result = getattr(ufunc, method)(*inputs, **kwargs)\n",
      "C:\\Users\\lorentsen\\AppData\\Local\\Packages\\PythonSoftwareFoundation.Python.3.11_qbz5n2kfra8p0\\LocalCache\\local-packages\\Python311\\site-packages\\pandas\\core\\arraylike.py:399: RuntimeWarning: invalid value encountered in log\n",
      "  result = getattr(ufunc, method)(*inputs, **kwargs)\n",
      "C:\\Users\\lorentsen\\AppData\\Local\\Packages\\PythonSoftwareFoundation.Python.3.11_qbz5n2kfra8p0\\LocalCache\\local-packages\\Python311\\site-packages\\pandas\\core\\arraylike.py:399: RuntimeWarning: invalid value encountered in log\n",
      "  result = getattr(ufunc, method)(*inputs, **kwargs)\n",
      "C:\\Users\\lorentsen\\AppData\\Local\\Packages\\PythonSoftwareFoundation.Python.3.11_qbz5n2kfra8p0\\LocalCache\\local-packages\\Python311\\site-packages\\pandas\\core\\arraylike.py:399: RuntimeWarning: invalid value encountered in log\n",
      "  result = getattr(ufunc, method)(*inputs, **kwargs)\n",
      "C:\\Users\\lorentsen\\AppData\\Local\\Packages\\PythonSoftwareFoundation.Python.3.11_qbz5n2kfra8p0\\LocalCache\\local-packages\\Python311\\site-packages\\pandas\\core\\arraylike.py:399: RuntimeWarning: invalid value encountered in log\n",
      "  result = getattr(ufunc, method)(*inputs, **kwargs)\n",
      "C:\\Users\\lorentsen\\AppData\\Local\\Packages\\PythonSoftwareFoundation.Python.3.11_qbz5n2kfra8p0\\LocalCache\\local-packages\\Python311\\site-packages\\pandas\\core\\arraylike.py:399: RuntimeWarning: invalid value encountered in log\n",
      "  result = getattr(ufunc, method)(*inputs, **kwargs)\n"
     ]
    },
    {
     "data": {
      "text/plain": [
       "()"
      ]
     },
     "execution_count": 125,
     "metadata": {},
     "output_type": "execute_result"
    }
   ],
   "source": [
    "#Backwards selection using Cp\n",
    "Y_Cp = sklearn_selected(sm.GLM,\n",
    "                        strategy,\n",
    "                        scoring = neg_Cp)\n",
    "Y_Cp.fit(X, Y)\n",
    "Y_Cp.selected_state_"
   ]
  }
 ],
 "metadata": {
  "kernelspec": {
   "display_name": "Python 3",
   "language": "python",
   "name": "python3"
  },
  "language_info": {
   "codemirror_mode": {
    "name": "ipython",
    "version": 3
   },
   "file_extension": ".py",
   "mimetype": "text/x-python",
   "name": "python",
   "nbconvert_exporter": "python",
   "pygments_lexer": "ipython3",
   "version": "3.11.9"
  }
 },
 "nbformat": 4,
 "nbformat_minor": 2
}
