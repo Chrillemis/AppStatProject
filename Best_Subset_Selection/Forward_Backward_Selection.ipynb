{
 "cells": [
  {
   "cell_type": "code",
   "execution_count": 1,
   "metadata": {},
   "outputs": [],
   "source": [
    "import numpy as np\n",
    "import matplotlib.pyplot as plt\n",
    "import pandas as pd"
   ]
  },
  {
   "cell_type": "code",
   "execution_count": 12,
   "metadata": {},
   "outputs": [],
   "source": [
    "import statsmodels.api as sm\n",
    "import sklearn.model_selection as skm\n",
    "import sklearn.linear_model as skl\n",
    "from sklearn.preprocessing import StandardScaler\n",
    "from ISLP import load_data\n",
    "from ISLP.models import ModelSpec as MS\n",
    "from functools import partial\n",
    "from sklearn.pipeline import Pipeline\n",
    "from sklearn.decomposition import PCA\n",
    "from sklearn.cross_decomposition import PLSRegression\n",
    "from ISLP.models import \\\n",
    "    (Stepwise,\n",
    "     sklearn_selected,\n",
    "     sklearn_selection_path)\n",
    "from l0bnb import fit_path\n",
    "from sklearn.model_selection import train_test_split"
   ]
  },
  {
   "cell_type": "code",
   "execution_count": 3,
   "metadata": {},
   "outputs": [],
   "source": [
    "### From the ISLP book ###\n",
    "def nCp(sigma2, estimator, X, Y): #Cp is negative, since sklearn tries to maximize the score, but we want to minimize Cp\n",
    "    \"Negative Cp Statistic\"\n",
    "    n, p = X.shape\n",
    "    Yhat = estimator.predict(X)\n",
    "    RSS = np.sum((Y - Yhat)**2)\n",
    "    return -(RSS + 2 * p * sigma2) / n\n",
    "    "
   ]
  },
  {
   "cell_type": "code",
   "execution_count": 4,
   "metadata": {},
   "outputs": [],
   "source": [
    "Df = pd.read_csv('Faellesdata_cleaned.csv')"
   ]
  },
  {
   "cell_type": "code",
   "execution_count": 14,
   "metadata": {},
   "outputs": [],
   "source": [
    "x_train, x_test, y_train, y_test = train_test_split(Df.drop('IsMigratorInt', axis=1), Df['IsMigratorInt'], test_size=0.2, random_state=42)"
   ]
  },
  {
   "cell_type": "code",
   "execution_count": 15,
   "metadata": {},
   "outputs": [],
   "source": [
    "### From the ISLP book ###\n",
    "design = MS(x_train).fit(x_train, y_train)\n",
    "Y = np.array(y_train)\n",
    "X = design.transform(x_train, y_train)\n",
    "sigma2 = sm.GLM(Y, X, family = sm.families.Binomial()).fit().scale\n",
    "neg_Cp = partial(nCp, sigma2)\n",
    "\n",
    "strategy = Stepwise.first_peak(design,\n",
    "                               direction = 'forward',\n",
    "                               max_terms = len(design.terms))"
   ]
  },
  {
   "cell_type": "code",
   "execution_count": 17,
   "metadata": {},
   "outputs": [
    {
     "data": {
      "text/plain": [
       "('Rcyl',\n",
       " 'age',\n",
       " 'cfe',\n",
       " 'ch',\n",
       " 'feh',\n",
       " 'mass',\n",
       " 'mgfe',\n",
       " 'mgh',\n",
       " 'ofe',\n",
       " 'oh',\n",
       " 'phi',\n",
       " 'vRcyl',\n",
       " 'vphi',\n",
       " 'vz',\n",
       " 'z')"
      ]
     },
     "execution_count": 17,
     "metadata": {},
     "output_type": "execute_result"
    }
   ],
   "source": [
    "#Forward selection using MSE\n",
    "Y_MSE = sklearn_selected(sm.GLM, strategy)\n",
    "Y_MSE.fit(X, Y)\n",
    "Y_MSE.selected_state_"
   ]
  },
  {
   "cell_type": "code",
   "execution_count": 18,
   "metadata": {},
   "outputs": [
    {
     "data": {
      "text/plain": [
       "('Rcyl', 'mgfe', 'vphi')"
      ]
     },
     "execution_count": 18,
     "metadata": {},
     "output_type": "execute_result"
    }
   ],
   "source": [
    "#Forward selection using Cp\n",
    "Y_Cp = sklearn_selected(sm.GLM,\n",
    "                        strategy,\n",
    "                        scoring = neg_Cp)\n",
    "Y_Cp.fit(X, Y)\n",
    "Y_Cp.selected_state_"
   ]
  },
  {
   "cell_type": "code",
   "execution_count": 19,
   "metadata": {},
   "outputs": [],
   "source": [
    "#We repeat the same, but in the backwards direction\n",
    "strategy = Stepwise.first_peak(design,\n",
    "                                 direction = 'backwards',\n",
    "                                 max_terms = len(design.terms))"
   ]
  },
  {
   "cell_type": "code",
   "execution_count": 21,
   "metadata": {},
   "outputs": [
    {
     "data": {
      "text/plain": [
       "('Rcyl',\n",
       " 'age',\n",
       " 'cfe',\n",
       " 'ch',\n",
       " 'feh',\n",
       " 'mass',\n",
       " 'mgfe',\n",
       " 'mgh',\n",
       " 'ofe',\n",
       " 'oh',\n",
       " 'phi',\n",
       " 'vRcyl',\n",
       " 'vphi',\n",
       " 'vz',\n",
       " 'z')"
      ]
     },
     "execution_count": 21,
     "metadata": {},
     "output_type": "execute_result"
    }
   ],
   "source": [
    "Y_MSE = sklearn_selected(sm.GLM, strategy)\n",
    "Y_MSE.fit(X, Y)\n",
    "Y_MSE.selected_state_"
   ]
  },
  {
   "cell_type": "code",
   "execution_count": 23,
   "metadata": {},
   "outputs": [
    {
     "data": {
      "text/plain": [
       "('Rcyl', 'mgfe', 'vphi')"
      ]
     },
     "execution_count": 23,
     "metadata": {},
     "output_type": "execute_result"
    }
   ],
   "source": [
    "#Backwards selection using Cp\n",
    "Y_Cp = sklearn_selected(sm.GLM,\n",
    "                        strategy,\n",
    "                        scoring = neg_Cp)\n",
    "Y_Cp.fit(X, Y)\n",
    "Y_Cp.selected_state_"
   ]
  }
 ],
 "metadata": {
  "kernelspec": {
   "display_name": "Python 3",
   "language": "python",
   "name": "python3"
  },
  "language_info": {
   "codemirror_mode": {
    "name": "ipython",
    "version": 3
   },
   "file_extension": ".py",
   "mimetype": "text/x-python",
   "name": "python",
   "nbconvert_exporter": "python",
   "pygments_lexer": "ipython3",
   "version": "3.11.1"
  }
 },
 "nbformat": 4,
 "nbformat_minor": 2
}
