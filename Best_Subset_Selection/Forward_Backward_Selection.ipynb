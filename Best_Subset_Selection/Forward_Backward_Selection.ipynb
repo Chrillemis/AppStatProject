{
 "cells": [
  {
   "cell_type": "code",
   "execution_count": 30,
   "metadata": {},
   "outputs": [],
   "source": [
    "import numpy as np\n",
    "import matplotlib.pyplot as plt\n",
    "import pandas as pd"
   ]
  },
  {
   "cell_type": "code",
   "execution_count": 31,
   "metadata": {},
   "outputs": [],
   "source": [
    "import statsmodels.api as sm\n",
    "import sklearn.model_selection as skm\n",
    "import sklearn.linear_model as skl\n",
    "from sklearn.preprocessing import StandardScaler\n",
    "from ISLP import load_data\n",
    "from ISLP.models import ModelSpec as MS\n",
    "from functools import partial\n",
    "from sklearn.pipeline import Pipeline\n",
    "from sklearn.decomposition import PCA\n",
    "from sklearn.cross_decomposition import PLSRegression\n",
    "from ISLP.models import \\\n",
    "    (Stepwise,\n",
    "     sklearn_selected,\n",
    "     sklearn_selection_path)\n",
    "from l0bnb import fit_path\n",
    "from sklearn.model_selection import train_test_split"
   ]
  },
  {
   "cell_type": "code",
   "execution_count": 32,
   "metadata": {},
   "outputs": [],
   "source": [
    "### From the ISLP book ###\n",
    "def CE(estimator, X, Y): #Cp is negative, since sklearn tries to maximize the score, but we want to minimize Cp\n",
    "    \"Cross Entropy\"\n",
    "    Yhat = estimator.predict(X)\n",
    "    maskIsMigrator = Y == 1\n",
    "    maskIsNotMigrator = Y == 0\n",
    "    CrossEntropy = np.mean(\n",
    "        Y[maskIsMigrator]*np.log(Yhat[maskIsMigrator])\n",
    "        ) + np.mean(\n",
    "            (1-Y[maskIsNotMigrator])*np.log(Yhat[maskIsNotMigrator])\n",
    "            )\n",
    "    return -CrossEntropy"
   ]
  },
  {
   "cell_type": "code",
   "execution_count": 33,
   "metadata": {},
   "outputs": [],
   "source": [
    "Df = pd.read_csv('Faellesdata_cleaned.csv')\n"
   ]
  },
  {
   "cell_type": "code",
   "execution_count": 34,
   "metadata": {},
   "outputs": [],
   "source": [
    "x_train, x_test, y_train, y_test = train_test_split(Df.drop('IsMigratorInt', axis=1), Df['IsMigratorInt'], test_size=0.2, random_state=42)"
   ]
  },
  {
   "cell_type": "code",
   "execution_count": 35,
   "metadata": {},
   "outputs": [],
   "source": [
    "### From the ISLP book ###\n",
    "design = MS(x_train).fit(x_train, y_train)\n",
    "Y = np.array(y_train)\n",
    "X = design.transform(x_train, y_train)\n",
    "# sigma2 = sm.GLM(Y, X, family = sm.families.Binomial()).fit().scale\n",
    "Cross_Entropy = partial(CE)\n",
    "\n",
    "strategy = Stepwise.first_peak(design,\n",
    "                               direction = 'forward',\n",
    "                               max_terms = len(design.terms))"
   ]
  },
  {
   "cell_type": "code",
   "execution_count": 36,
   "metadata": {},
   "outputs": [],
   "source": [
    "from sklearn.metrics import accuracy_score"
   ]
  },
  {
   "cell_type": "code",
   "execution_count": 37,
   "metadata": {},
   "outputs": [
    {
     "data": {
      "text/plain": [
       "('Rcyl', 'age', 'cfe', 'mass', 'mgfe', 'phi', 'vRcyl', 'vphi', 'vz')"
      ]
     },
     "execution_count": 37,
     "metadata": {},
     "output_type": "execute_result"
    }
   ],
   "source": [
    "#Forward selection using Cross Entropy'\n",
    "fit = partial(sm.GLM, family = sm.families.Binomial())\n",
    "Y_CE = sklearn_selected(fit,\n",
    "                        strategy,\n",
    "                        scoring = CE)\n",
    "Y_CE.fit(X, Y)\n",
    "forward_accuracy = accuracy_score(y_test, Y_CE.predict(x_test) > 0.5)\n",
    "forward = Y_CE.selected_state_\n",
    "forward"
   ]
  },
  {
   "cell_type": "code",
   "execution_count": 38,
   "metadata": {},
   "outputs": [],
   "source": [
    "#We repeat the same, but in the backwards direction\n",
    "strategy = Stepwise.first_peak(design,\n",
    "                                 direction = 'backwards',\n",
    "                                 max_terms = len(design.terms))"
   ]
  },
  {
   "cell_type": "code",
   "execution_count": 39,
   "metadata": {},
   "outputs": [
    {
     "data": {
      "text/plain": [
       "('age', 'cfe', 'mgfe', 'phi', 'vRcyl', 'vphi', 'vz')"
      ]
     },
     "execution_count": 39,
     "metadata": {},
     "output_type": "execute_result"
    }
   ],
   "source": [
    "#Backwards selection using Cp\n",
    "fit = partial(sm.GLM, family = sm.families.Binomial())\n",
    "Y_CE = sklearn_selected(fit,\n",
    "                        strategy,\n",
    "                        scoring = CE)\n",
    "Y_CE.fit(X, Y)\n",
    "backward_accuracy = accuracy_score(y_test, Y_CE.predict(x_test) > 0.5)\n",
    "backward = Y_CE.selected_state_\n",
    "backward"
   ]
  },
  {
   "cell_type": "code",
   "execution_count": 40,
   "metadata": {},
   "outputs": [],
   "source": [
    "%%capture output\n",
    "#We do it all again, but for absolute value of vz\n",
    "\n",
    "# Save the captured output to a text file\n",
    "with open('Forward_backward.txt', 'w') as f:\n",
    "    f.write(output.stdout)\n",
    "\n",
    "\n",
    "Df['vz'] = abs(Df['vz'])\n",
    "x_train, x_test, y_train, y_test = train_test_split(Df.drop('IsMigratorInt', axis=1), Df['IsMigratorInt'], test_size=0.2, random_state=42)\n",
    "design = MS(x_train).fit(x_train, y_train)\n",
    "Y = np.array(y_train)\n",
    "X = design.transform(x_train, y_train)\n",
    "Cross_Entropy = partial(CE)\n",
    "\n",
    "strategy = Stepwise.first_peak(design,\n",
    "                               direction = 'forward',\n",
    "                               max_terms = len(design.terms))\n",
    "fit = partial(sm.GLM, family = sm.families.Binomial())\n",
    "Y_CE = sklearn_selected(fit,\n",
    "                        strategy,\n",
    "                        scoring = CE)\n",
    "Y_CE.fit(X, Y)\n",
    "print('\\n')\n",
    "print('Forward:          ', forward)\n",
    "print('Accuracy: ', forward_accuracy, '\\n')\n",
    "print('Forward (abs vz): ', Y_CE.selected_state_)\n",
    "print('Accuracy: ', accuracy_score(y_test, Y_CE.predict(x_test) > 0.5), '\\n')\n",
    "\n",
    "strategy = Stepwise.first_peak(design,\n",
    "                                 direction = 'backwards',\n",
    "                                 max_terms = len(design.terms))\n",
    "fit = partial(sm.GLM, family = sm.families.Binomial())\n",
    "Y_CE = sklearn_selected(fit,\n",
    "                        strategy,\n",
    "                        scoring = CE)\n",
    "Y_CE.fit(X, Y)\n",
    "print('Backwards:          ', backward)\n",
    "print('Accuracy: ', backward_accuracy, '\\n')\n",
    "print('Backwards (abs vz): ', Y_CE.selected_state_)\n",
    "print('Accuracy: ', accuracy_score(y_test, Y_CE.predict(x_test) > 0.5), '\\n')"
   ]
  },
  {
   "cell_type": "code",
   "execution_count": 41,
   "metadata": {},
   "outputs": [
    {
     "name": "stdout",
     "output_type": "stream",
     "text": [
      "[\"Forward:           ('Rcyl', 'age', 'cfe', 'mass', 'mgfe', 'phi', 'vRcyl', 'vphi', 'vz')\"\n",
      " 'Accuracy:  0.8455'\n",
      " \"Forward (abs vz):  ('Rcyl', 'age', 'cfe', 'mass', 'mgfe', 'ofe', 'phi', 'vRcyl', 'vphi', 'vz')\"\n",
      " 'Accuracy:  0.842'\n",
      " \"Backwards:           ('age', 'cfe', 'mgfe', 'phi', 'vRcyl', 'vphi', 'vz')\"\n",
      " 'Accuracy:  0.841'\n",
      " \"Backwards (abs vz):  ('age', 'cfe', 'mgfe', 'phi', 'vRcyl', 'vphi', 'vz', 'z')\"\n",
      " 'Accuracy:  0.84']\n"
     ]
    }
   ],
   "source": [
    "print(np.genfromtxt('Forward_backward.txt', delimiter='\\n', dtype=str))"
   ]
  }
 ],
 "metadata": {
  "kernelspec": {
   "display_name": "Python 3",
   "language": "python",
   "name": "python3"
  },
  "language_info": {
   "codemirror_mode": {
    "name": "ipython",
    "version": 3
   },
   "file_extension": ".py",
   "mimetype": "text/x-python",
   "name": "python",
   "nbconvert_exporter": "python",
   "pygments_lexer": "ipython3",
   "version": "3.11.9"
  }
 },
 "nbformat": 4,
 "nbformat_minor": 2
}
